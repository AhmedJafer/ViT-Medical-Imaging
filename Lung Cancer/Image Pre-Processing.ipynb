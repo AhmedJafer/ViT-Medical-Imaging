{
 "cells": [
  {
   "cell_type": "code",
   "execution_count": null,
   "id": "initial_id",
   "metadata": {
    "collapsed": true
   },
   "outputs": [],
   "source": [
    ""
   ]
  },
  {
   "metadata": {
    "ExecuteTime": {
     "end_time": "2024-08-06T20:14:10.238077Z",
     "start_time": "2024-08-06T20:13:22.044167Z"
    }
   },
   "cell_type": "code",
   "source": [
    "import cv2\n",
    "import os\n",
    "import numpy as np\n",
    "\n",
    "def enhance_tumor_features(image_path):\n",
    "    # Load the image\n",
    "    image = cv2.imread(image_path, cv2.IMREAD_UNCHANGED)\n",
    "\n",
    "    if image is None:\n",
    "        raise ValueError(\"Image not found or unable to read.\")\n",
    "\n",
    "    # Apply Gaussian smoothing\n",
    "    smoothed_image = cv2.GaussianBlur(image, (5, 5), 0)\n",
    "\n",
    "    # Convert to Lab color space and apply CLAHE\n",
    "    lab_image = cv2.cvtColor(smoothed_image, cv2.COLOR_BGR2Lab)\n",
    "    l_channel, a_channel, b_channel = cv2.split(lab_image)\n",
    "\n",
    "    # Apply CLAHE\n",
    "    clahe = cv2.createCLAHE(clipLimit=2.0, tileGridSize=(8, 8))\n",
    "    cl = clahe.apply(l_channel)\n",
    "    enhanced_lab = cv2.merge((cl, a_channel, b_channel))\n",
    "    enhanced_image = cv2.cvtColor(enhanced_lab, cv2.COLOR_Lab2BGR)\n",
    "\n",
    "    # Edge enhancement techniques\n",
    "    # Uncomment the one you want to use\n",
    "\n",
    "    # 1. Laplacian Filter\n",
    "    # edges_laplacian = cv2.Laplacian(enhanced_image, cv2.CV_64F)\n",
    "    # edges_laplacian = np.uint8(np.absolute(edges_laplacian))\n",
    "\n",
    "    # 3. Unsharp Masking\n",
    "    # blurred = cv2.GaussianBlur(enhanced_image, (5, 5), 0)\n",
    "    # edges_unsharp = cv2.addWeighted(enhanced_image, 1.5, blurred, -0.5, 0)\n",
    "\n",
    "    # 4. High-pass Filter\n",
    "    # kernel = np.array([[0, -1, 0], [-1, 5, -1], [0, -1, 0]])\n",
    "    # edges_high_pass = cv2.filter2D(enhanced_image, -1, kernel)\n",
    "\n",
    "    # 5. Bilateral Filter\n",
    "    edges_bilateral = cv2.bilateralFilter(enhanced_image, d=9, sigmaColor=75, sigmaSpace=75)\n",
    "\n",
    "    # Select the edge enhancement method to use\n",
    "    # Uncomment the one you want to use\n",
    "    # edges = edges_laplacian  # Use Laplacian Filter\n",
    "    #edges = edges_unsharp  # Use Unsharp Masking\n",
    "    # edges = edges_high_pass  # Use High-pass Filter\n",
    "    edges = edges_bilateral   # Use Bilateral Filter\n",
    "\n",
    "    # Convert single-channel edge image to three channels\n",
    "\n",
    "    # thresholded_colored = cv2.cvtColor(edges, cv2.COLOR_GRAY2BGR)\n",
    "\n",
    "    # Combine original enhanced image with edges\n",
    "    final_enhanced_image = cv2.addWeighted(enhanced_image, 0.7, edges, 0.3, 0)\n",
    "\n",
    "    return final_enhanced_image\n",
    "\n",
    "def process_images_in_folder(input_folder_path, output_folder_path):\n",
    "    if not os.path.exists(output_folder_path):\n",
    "        os.makedirs(output_folder_path)\n",
    "\n",
    "    for root, dirs, files in os.walk(input_folder_path):\n",
    "        for file in files:\n",
    "            if file.lower().endswith(('.png', '.jpg', '.jpeg')):  # Check for image files\n",
    "                image_path = os.path.join(root, file)\n",
    "                relative_path = os.path.relpath(image_path, input_folder_path)\n",
    "                output_image_path = os.path.join(output_folder_path, relative_path)\n",
    "\n",
    "                if not os.path.exists(os.path.dirname(output_image_path)):\n",
    "                    os.makedirs(os.path.dirname(output_image_path))\n",
    "\n",
    "                if image_path is not None:\n",
    "                    # Process the image\n",
    "                    processed_image = enhance_tumor_features(image_path)\n",
    "\n",
    "                    # Save the processed image to the new folder\n",
    "                    cv2.imwrite(output_image_path, processed_image)\n",
    "                else:\n",
    "                    print(f\"Error loading image: {image_path}\")\n",
    "\n",
    "# Example\n",
    "input_folder_path = \"/home/ahmed/PycharmProjects/Lung_Cancer/Final_dataset/train\"\n",
    "output_folder_path = \"/home/ahmed/PycharmProjects/Lung_Cancer/Final_dataset/PP\"\n",
    "process_images_in_folder(input_folder_path, output_folder_path)\n"
   ],
   "id": "abbebb95103049e9",
   "outputs": [],
   "execution_count": 2
  },
  {
   "metadata": {},
   "cell_type": "code",
   "outputs": [],
   "execution_count": null,
   "source": "",
   "id": "f566e122d8f2879"
  }
 ],
 "metadata": {
  "kernelspec": {
   "display_name": "Python 3",
   "language": "python",
   "name": "python3"
  },
  "language_info": {
   "codemirror_mode": {
    "name": "ipython",
    "version": 2
   },
   "file_extension": ".py",
   "mimetype": "text/x-python",
   "name": "python",
   "nbconvert_exporter": "python",
   "pygments_lexer": "ipython2",
   "version": "2.7.6"
  }
 },
 "nbformat": 4,
 "nbformat_minor": 5
}
